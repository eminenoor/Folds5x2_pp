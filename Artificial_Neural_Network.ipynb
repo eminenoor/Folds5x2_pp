{
  "nbformat": 4,
  "nbformat_minor": 0,
  "metadata": {
    "colab": {
      "provenance": [],
      "include_colab_link": true
    },
    "kernelspec": {
      "name": "python3",
      "display_name": "Python 3"
    }
  },
  "cells": [
    {
      "cell_type": "markdown",
      "metadata": {
        "id": "view-in-github",
        "colab_type": "text"
      },
      "source": [
        "<a href=\"https://colab.research.google.com/github/eminenoor/Folds5x2_pp/blob/master/Artificial_Neural_Network.ipynb\" target=\"_parent\"><img src=\"https://colab.research.google.com/assets/colab-badge.svg\" alt=\"Open In Colab\"/></a>"
      ]
    },
    {
      "cell_type": "markdown",
      "metadata": {
        "id": "3cbb7fRy-eyr"
      },
      "source": [
        "# Artificial Neural Network"
      ]
    },
    {
      "cell_type": "markdown",
      "metadata": {
        "id": "8sNDnxE2-pwE"
      },
      "source": [
        "### Importing the libraries"
      ]
    },
    {
      "cell_type": "code",
      "metadata": {
        "id": "lxChR1Rk-umf"
      },
      "source": [
        "import numpy as np\n",
        "import pandas as pd\n",
        "import tensorflow as tf"
      ],
      "execution_count": null,
      "outputs": []
    },
    {
      "cell_type": "code",
      "metadata": {
        "id": "uBTqR3nacj0e",
        "colab": {
          "base_uri": "https://localhost:8080/",
          "height": 36
        },
        "outputId": "6cc892b4-fe3d-482e-d0a5-56be6ee00928"
      },
      "source": [
        "tf.__version__"
      ],
      "execution_count": null,
      "outputs": [
        {
          "output_type": "execute_result",
          "data": {
            "text/plain": [
              "'2.12.0'"
            ],
            "application/vnd.google.colaboratory.intrinsic+json": {
              "type": "string"
            }
          },
          "metadata": {},
          "execution_count": 2
        }
      ]
    },
    {
      "cell_type": "markdown",
      "metadata": {
        "id": "AG3FQEch-yuA"
      },
      "source": [
        "## Part 1 - Data Preprocessing"
      ]
    },
    {
      "cell_type": "markdown",
      "metadata": {
        "id": "-4zq8Mza_D9O"
      },
      "source": [
        "### Importing the dataset"
      ]
    },
    {
      "cell_type": "code",
      "metadata": {
        "id": "B9CV13Co_HHM"
      },
      "source": [
        "dataset = pd.read_excel('Folds5x2_pp.xlsx')\n",
        "X = dataset.iloc[:, :-1].values\n",
        "y = dataset.iloc[:, -1].values"
      ],
      "execution_count": null,
      "outputs": []
    },
    {
      "cell_type": "markdown",
      "metadata": {
        "id": "VC6omXel_Up0"
      },
      "source": [
        "### Splitting the dataset into the Training set and Test set"
      ]
    },
    {
      "cell_type": "code",
      "metadata": {
        "id": "L5edeb2r_agx"
      },
      "source": [
        "from sklearn.model_selection import train_test_split\n",
        "X_train, X_test, y_train, y_test = train_test_split(X, y, test_size = 0.2, random_state = 0)"
      ],
      "execution_count": null,
      "outputs": []
    },
    {
      "cell_type": "markdown",
      "metadata": {
        "id": "_mSLlAT9_eyI"
      },
      "source": [
        "## Part 2 - Building the ANN"
      ]
    },
    {
      "cell_type": "markdown",
      "metadata": {
        "id": "CsBULd_f_wLY"
      },
      "source": [
        "### Initializing the ANN"
      ]
    },
    {
      "cell_type": "code",
      "metadata": {
        "id": "J6Hd97Ls__Nz"
      },
      "source": [
        "ann = tf.keras.models.Sequential()"
      ],
      "execution_count": null,
      "outputs": []
    },
    {
      "cell_type": "markdown",
      "metadata": {
        "id": "iitAFJS_ABUn"
      },
      "source": [
        "### Adding the input layer and the first hidden layer"
      ]
    },
    {
      "cell_type": "code",
      "metadata": {
        "id": "ksO_Vv40AHix"
      },
      "source": [
        "ann.add(tf.keras.layers.Dense(units=6, activation='relu'))"
      ],
      "execution_count": null,
      "outputs": []
    },
    {
      "cell_type": "markdown",
      "metadata": {
        "id": "-lb4kK_wAKbs"
      },
      "source": [
        "### Adding the second hidden layer"
      ]
    },
    {
      "cell_type": "code",
      "metadata": {
        "id": "c2357OqEAQOQ"
      },
      "source": [
        "ann.add(tf.keras.layers.Dense(units=6, activation='relu'))"
      ],
      "execution_count": null,
      "outputs": []
    },
    {
      "cell_type": "markdown",
      "metadata": {
        "id": "jwMOmKb3AdBY"
      },
      "source": [
        "### Adding the output layer"
      ]
    },
    {
      "cell_type": "code",
      "metadata": {
        "id": "YFATpzsUAkLL"
      },
      "source": [
        "ann.add(tf.keras.layers.Dense(units=1))"
      ],
      "execution_count": null,
      "outputs": []
    },
    {
      "cell_type": "markdown",
      "metadata": {
        "id": "fq7e4fF6A1yy"
      },
      "source": [
        "## Part 3 - Training the ANN"
      ]
    },
    {
      "cell_type": "markdown",
      "metadata": {
        "id": "qDeylAs2An25"
      },
      "source": [
        "### Compiling the ANN"
      ]
    },
    {
      "cell_type": "code",
      "metadata": {
        "id": "pesgbWlCAtB4"
      },
      "source": [
        "ann.compile(optimizer = 'adam', loss = 'mean_squared_error')"
      ],
      "execution_count": null,
      "outputs": []
    },
    {
      "cell_type": "markdown",
      "metadata": {
        "id": "YjVuiybYOo7r"
      },
      "source": [
        "### Training the ANN model on the Training set"
      ]
    },
    {
      "cell_type": "code",
      "metadata": {
        "id": "c_vV-tiiA5zn",
        "colab": {
          "base_uri": "https://localhost:8080/"
        },
        "outputId": "3043929f-c5f6-4fa2-8bcc-89e31da4369c"
      },
      "source": [
        "ann.fit(X_train, y_train, batch_size = 32, epochs = 100)"
      ],
      "execution_count": null,
      "outputs": [
        {
          "output_type": "stream",
          "name": "stdout",
          "text": [
            "Epoch 1/100\n",
            "240/240 [==============================] - 1s 2ms/step - loss: 2165.9453\n",
            "Epoch 2/100\n",
            "240/240 [==============================] - 0s 2ms/step - loss: 627.6924\n",
            "Epoch 3/100\n",
            "240/240 [==============================] - 0s 2ms/step - loss: 465.5966\n",
            "Epoch 4/100\n",
            "240/240 [==============================] - 0s 2ms/step - loss: 326.3018\n",
            "Epoch 5/100\n",
            "240/240 [==============================] - 0s 2ms/step - loss: 219.6320\n",
            "Epoch 6/100\n",
            "240/240 [==============================] - 0s 2ms/step - loss: 143.9743\n",
            "Epoch 7/100\n",
            "240/240 [==============================] - 0s 2ms/step - loss: 95.7655\n",
            "Epoch 8/100\n",
            "240/240 [==============================] - 0s 2ms/step - loss: 65.0868\n",
            "Epoch 9/100\n",
            "240/240 [==============================] - 0s 2ms/step - loss: 47.9023\n",
            "Epoch 10/100\n",
            "240/240 [==============================] - 0s 2ms/step - loss: 38.1542\n",
            "Epoch 11/100\n",
            "240/240 [==============================] - 0s 2ms/step - loss: 32.2755\n",
            "Epoch 12/100\n",
            "240/240 [==============================] - 0s 2ms/step - loss: 29.3477\n",
            "Epoch 13/100\n",
            "240/240 [==============================] - 0s 2ms/step - loss: 27.8680\n",
            "Epoch 14/100\n",
            "240/240 [==============================] - 0s 2ms/step - loss: 27.2129\n",
            "Epoch 15/100\n",
            "240/240 [==============================] - 0s 2ms/step - loss: 26.7796\n",
            "Epoch 16/100\n",
            "240/240 [==============================] - 1s 2ms/step - loss: 26.7486\n",
            "Epoch 17/100\n",
            "240/240 [==============================] - 1s 2ms/step - loss: 27.0521\n",
            "Epoch 18/100\n",
            "240/240 [==============================] - 1s 2ms/step - loss: 27.2144\n",
            "Epoch 19/100\n",
            "240/240 [==============================] - 1s 2ms/step - loss: 27.6140\n",
            "Epoch 20/100\n",
            "240/240 [==============================] - 1s 2ms/step - loss: 28.0328\n",
            "Epoch 21/100\n",
            "240/240 [==============================] - 0s 2ms/step - loss: 27.7496\n",
            "Epoch 22/100\n",
            "240/240 [==============================] - 0s 2ms/step - loss: 28.4039\n",
            "Epoch 23/100\n",
            "240/240 [==============================] - 0s 2ms/step - loss: 27.5818\n",
            "Epoch 24/100\n",
            "240/240 [==============================] - 0s 2ms/step - loss: 28.2152\n",
            "Epoch 25/100\n",
            "240/240 [==============================] - 0s 2ms/step - loss: 27.5787\n",
            "Epoch 26/100\n",
            "240/240 [==============================] - 0s 2ms/step - loss: 27.5852\n",
            "Epoch 27/100\n",
            "240/240 [==============================] - 0s 2ms/step - loss: 28.6218\n",
            "Epoch 28/100\n",
            "240/240 [==============================] - 0s 2ms/step - loss: 27.9951\n",
            "Epoch 29/100\n",
            "240/240 [==============================] - 0s 2ms/step - loss: 28.9304\n",
            "Epoch 30/100\n",
            "240/240 [==============================] - 0s 2ms/step - loss: 28.4926\n",
            "Epoch 31/100\n",
            "240/240 [==============================] - 0s 2ms/step - loss: 28.3648\n",
            "Epoch 32/100\n",
            "240/240 [==============================] - 0s 2ms/step - loss: 27.4821\n",
            "Epoch 33/100\n",
            "240/240 [==============================] - 0s 2ms/step - loss: 27.1494\n",
            "Epoch 34/100\n",
            "240/240 [==============================] - 0s 2ms/step - loss: 27.3117\n",
            "Epoch 35/100\n",
            "240/240 [==============================] - 0s 2ms/step - loss: 27.9356\n",
            "Epoch 36/100\n",
            "240/240 [==============================] - 0s 2ms/step - loss: 28.2280\n",
            "Epoch 37/100\n",
            "240/240 [==============================] - 0s 2ms/step - loss: 27.2594\n",
            "Epoch 38/100\n",
            "240/240 [==============================] - 0s 2ms/step - loss: 27.8840\n",
            "Epoch 39/100\n",
            "240/240 [==============================] - 0s 2ms/step - loss: 28.8834\n",
            "Epoch 40/100\n",
            "240/240 [==============================] - 0s 2ms/step - loss: 27.4860\n",
            "Epoch 41/100\n",
            "240/240 [==============================] - 0s 2ms/step - loss: 28.7350\n",
            "Epoch 42/100\n",
            "240/240 [==============================] - 0s 2ms/step - loss: 27.2284\n",
            "Epoch 43/100\n",
            "240/240 [==============================] - 0s 2ms/step - loss: 28.3673\n",
            "Epoch 44/100\n",
            "240/240 [==============================] - 0s 2ms/step - loss: 28.5058\n",
            "Epoch 45/100\n",
            "240/240 [==============================] - 0s 2ms/step - loss: 28.0897\n",
            "Epoch 46/100\n",
            "240/240 [==============================] - 1s 2ms/step - loss: 28.2380\n",
            "Epoch 47/100\n",
            "240/240 [==============================] - 1s 2ms/step - loss: 27.8560\n",
            "Epoch 48/100\n",
            "240/240 [==============================] - 1s 2ms/step - loss: 28.7185\n",
            "Epoch 49/100\n",
            "240/240 [==============================] - 1s 2ms/step - loss: 27.4411\n",
            "Epoch 50/100\n",
            "240/240 [==============================] - 1s 2ms/step - loss: 27.8793\n",
            "Epoch 51/100\n",
            "240/240 [==============================] - 0s 2ms/step - loss: 28.0939\n",
            "Epoch 52/100\n",
            "240/240 [==============================] - 0s 2ms/step - loss: 30.1078\n",
            "Epoch 53/100\n",
            "240/240 [==============================] - 0s 2ms/step - loss: 28.5011\n",
            "Epoch 54/100\n",
            "240/240 [==============================] - 0s 2ms/step - loss: 27.4540\n",
            "Epoch 55/100\n",
            "240/240 [==============================] - 0s 2ms/step - loss: 27.3418\n",
            "Epoch 56/100\n",
            "240/240 [==============================] - 0s 2ms/step - loss: 28.2977\n",
            "Epoch 57/100\n",
            "240/240 [==============================] - 0s 2ms/step - loss: 27.7781\n",
            "Epoch 58/100\n",
            "240/240 [==============================] - 0s 2ms/step - loss: 27.1500\n",
            "Epoch 59/100\n",
            "240/240 [==============================] - 0s 2ms/step - loss: 27.7321\n",
            "Epoch 60/100\n",
            "240/240 [==============================] - 0s 2ms/step - loss: 27.3372\n",
            "Epoch 61/100\n",
            "240/240 [==============================] - 0s 2ms/step - loss: 27.5308\n",
            "Epoch 62/100\n",
            "240/240 [==============================] - 0s 2ms/step - loss: 28.3892\n",
            "Epoch 63/100\n",
            "240/240 [==============================] - 0s 2ms/step - loss: 28.6273\n",
            "Epoch 64/100\n",
            "240/240 [==============================] - 0s 2ms/step - loss: 27.8461\n",
            "Epoch 65/100\n",
            "240/240 [==============================] - 0s 2ms/step - loss: 28.2163\n",
            "Epoch 66/100\n",
            "240/240 [==============================] - 0s 2ms/step - loss: 28.2471\n",
            "Epoch 67/100\n",
            "240/240 [==============================] - 0s 2ms/step - loss: 27.7505\n",
            "Epoch 68/100\n",
            "240/240 [==============================] - 0s 2ms/step - loss: 27.6430\n",
            "Epoch 69/100\n",
            "240/240 [==============================] - 0s 2ms/step - loss: 28.8974\n",
            "Epoch 70/100\n",
            "240/240 [==============================] - 0s 2ms/step - loss: 28.1130\n",
            "Epoch 71/100\n",
            "240/240 [==============================] - 0s 2ms/step - loss: 27.5810\n",
            "Epoch 72/100\n",
            "240/240 [==============================] - 0s 2ms/step - loss: 27.3799\n",
            "Epoch 73/100\n",
            "240/240 [==============================] - 0s 2ms/step - loss: 28.8053\n",
            "Epoch 74/100\n",
            "240/240 [==============================] - 0s 2ms/step - loss: 27.9512\n",
            "Epoch 75/100\n",
            "240/240 [==============================] - 0s 2ms/step - loss: 29.4563\n",
            "Epoch 76/100\n",
            "240/240 [==============================] - 1s 2ms/step - loss: 28.0046\n",
            "Epoch 77/100\n",
            "240/240 [==============================] - 1s 2ms/step - loss: 27.4688\n",
            "Epoch 78/100\n",
            "240/240 [==============================] - 1s 2ms/step - loss: 27.1002\n",
            "Epoch 79/100\n",
            "240/240 [==============================] - 1s 2ms/step - loss: 27.7971\n",
            "Epoch 80/100\n",
            "240/240 [==============================] - 1s 2ms/step - loss: 28.0075\n",
            "Epoch 81/100\n",
            "240/240 [==============================] - 0s 2ms/step - loss: 27.9061\n",
            "Epoch 82/100\n",
            "240/240 [==============================] - 0s 2ms/step - loss: 27.8680\n",
            "Epoch 83/100\n",
            "240/240 [==============================] - 0s 2ms/step - loss: 27.2973\n",
            "Epoch 84/100\n",
            "240/240 [==============================] - 0s 2ms/step - loss: 28.6659\n",
            "Epoch 85/100\n",
            "240/240 [==============================] - 0s 2ms/step - loss: 28.2631\n",
            "Epoch 86/100\n",
            "240/240 [==============================] - 0s 2ms/step - loss: 27.2416\n",
            "Epoch 87/100\n",
            "240/240 [==============================] - 0s 2ms/step - loss: 27.2571\n",
            "Epoch 88/100\n",
            "240/240 [==============================] - 0s 2ms/step - loss: 28.2391\n",
            "Epoch 89/100\n",
            "240/240 [==============================] - 0s 2ms/step - loss: 28.7819\n",
            "Epoch 90/100\n",
            "240/240 [==============================] - 0s 2ms/step - loss: 28.0970\n",
            "Epoch 91/100\n",
            "240/240 [==============================] - 0s 2ms/step - loss: 26.9166\n",
            "Epoch 92/100\n",
            "240/240 [==============================] - 0s 2ms/step - loss: 27.4083\n",
            "Epoch 93/100\n",
            "240/240 [==============================] - 0s 2ms/step - loss: 27.4351\n",
            "Epoch 94/100\n",
            "240/240 [==============================] - 0s 2ms/step - loss: 26.8756\n",
            "Epoch 95/100\n",
            "240/240 [==============================] - 0s 2ms/step - loss: 28.0508\n",
            "Epoch 96/100\n",
            "240/240 [==============================] - 0s 2ms/step - loss: 29.2393\n",
            "Epoch 97/100\n",
            "240/240 [==============================] - 0s 2ms/step - loss: 28.7897\n",
            "Epoch 98/100\n",
            "240/240 [==============================] - 0s 2ms/step - loss: 28.0381\n",
            "Epoch 99/100\n",
            "240/240 [==============================] - 0s 2ms/step - loss: 28.0548\n",
            "Epoch 100/100\n",
            "240/240 [==============================] - 0s 2ms/step - loss: 28.0787\n"
          ]
        },
        {
          "output_type": "execute_result",
          "data": {
            "text/plain": [
              "<keras.callbacks.History at 0x7d88d3d0f5b0>"
            ]
          },
          "metadata": {},
          "execution_count": 10
        }
      ]
    },
    {
      "cell_type": "markdown",
      "metadata": {
        "id": "0H0zKKNEBLD5"
      },
      "source": [
        "### Predicting the results of the Test set"
      ]
    },
    {
      "cell_type": "code",
      "metadata": {
        "id": "IA0yApEmBG1X",
        "colab": {
          "base_uri": "https://localhost:8080/"
        },
        "outputId": "9918aa1b-2edc-40ae-fa7f-ae0d814ad4e2"
      },
      "source": [
        "y_pred = ann.predict(X_test)\n",
        "np.set_printoptions(precision=2)\n",
        "print(np.concatenate((y_pred.reshape(len(y_pred),1), y_test.reshape(len(y_test),1)),1))"
      ],
      "execution_count": null,
      "outputs": [
        {
          "output_type": "stream",
          "name": "stdout",
          "text": [
            "60/60 [==============================] - 0s 1ms/step\n",
            "[[430.14 431.23]\n",
            " [461.3  460.01]\n",
            " [464.85 461.14]\n",
            " ...\n",
            " [472.04 473.26]\n",
            " [438.82 438.  ]\n",
            " [458.07 463.28]]\n"
          ]
        }
      ]
    }
  ]
}